{
 "cells": [
  {
   "cell_type": "markdown",
   "metadata": {
    "id": "chcMMiJKcqyJ"
   },
   "source": [
    "# **19CSE305: MACHINE LEARNING LAB 2**"
   ]
  },
  {
   "cell_type": "code",
   "execution_count": null,
   "metadata": {},
   "outputs": [],
   "source": []
  },
  {
   "cell_type": "markdown",
   "metadata": {
    "id": "0Q-TStVVdFaA"
   },
   "source": [
    "ROLL NUMBER: "
   ]
  },
  {
   "cell_type": "markdown",
   "metadata": {
    "id": "-7EeRdSAGbw3"
   },
   "source": [
    "## Python Basic Exercises\n",
    "\n",
    "1. Get the values P,t,R from user and calculate compound interest. Formula to calculate compound interest annually is given by: \n",
    "        A = P(1+R/100)*t\n",
    "        CI = A – P\n",
    "        Input : Principle, Time, Rate\n",
    "        Output : Compound Interest\n",
    "2. Given a list of strings (Entered by the user), write program to get a percentage share of each word in the strings list.\n",
    "        percentage = (Occurrence of a word / Total words) * 100\n",
    "3. Check if  the binary representation of a number is Palindrome or not. Given an integer ‘n’ (entered by the user), write a Python function that returns true if binary representation of 'x' is palindrome and false if not.\n",
    "4. Write a program to check if all digits of a number divide it. Given a number n (entered by the user), find whether all digits of n divide it or not.\n",
    "5. Given a list of numbers (entered by the user), write a program to find the second largest number in that list.\n",
    "        Input: [1, 2, 3, 4 ,5]\n",
    "        Output: 4"
   ]
  },
  {
   "cell_type": "code",
   "execution_count": 10,
   "metadata": {},
   "outputs": [
    {
     "name": "stdout",
     "output_type": "stream",
     "text": [
      "100\n",
      "1\n",
      "2\n",
      "2.0\n"
     ]
    }
   ],
   "source": [
    "#question 1\n",
    "P=int(input())\n",
    "t=int(input())\n",
    "R=int(input())\n",
    "A=P*(1+R/100)**t\n",
    "ci=A-P\n",
    "print(ci)\n"
   ]
  },
  {
   "cell_type": "code",
   "execution_count": 8,
   "metadata": {},
   "outputs": [
    {
     "name": "stdout",
     "output_type": "stream",
     "text": [
      "enter the number of strings\n",
      "3\n",
      "abc\n",
      "def ghi abc\n",
      "ghi mno\n",
      "{'abc': 0.3333333333333333, 'def': 0.16666666666666666, 'ghi': 0.3333333333333333, 'mno': 0.16666666666666666}\n"
     ]
    }
   ],
   "source": [
    "print(\"enter the number of strings\")\n",
    "no=int(input())\n",
    "a=[]\n",
    "for i in range(no):\n",
    "    a.append(input())\n",
    "    \n",
    "joined=\" \".join(ele for ele in a)\n",
    "arr=joined.split()\n",
    "d=dict()\n",
    "for i in arr:\n",
    "    if i not in d.keys():\n",
    "        d[i]=arr.count(i)/len(arr)\n",
    "print(d)\n"
   ]
  },
  {
   "cell_type": "code",
   "execution_count": 21,
   "metadata": {},
   "outputs": [
    {
     "name": "stdout",
     "output_type": "stream",
     "text": [
      "4\n",
      "Not Palindrome\n"
     ]
    }
   ],
   "source": [
    "n=int(input())\n",
    "binary=bin(n)\n",
    "st=\"\"\n",
    "st=st+binary\n",
    "binary=binary[2:]\n",
    "length=len(binary)\n",
    "b=0\n",
    "\n",
    "for i in range(int(length/2)):\n",
    "    if binary[i]!=binary[(length-1)-i]:\n",
    "        print(\"Not Palindrome\")\n",
    "        b=1\n",
    "        \n",
    "if b!=1:\n",
    "    print(\"Palindrome\")\n",
    "\n",
    "\n",
    "    \n"
   ]
  },
  {
   "cell_type": "code",
   "execution_count": 1,
   "metadata": {},
   "outputs": [
    {
     "name": "stdout",
     "output_type": "stream",
     "text": [
      "123\n",
      "no\n"
     ]
    }
   ],
   "source": [
    "n=int(input())\n",
    "st=str(n)\n",
    "d=0\n",
    "for i in range(len(st)):\n",
    "    a=int(st[i])\n",
    "    if n%a==0:\n",
    "        d=d+1\n",
    "if d==len(st):\n",
    "    print(\"yes\")\n",
    "else:\n",
    "    print(\"no\")"
   ]
  },
  {
   "cell_type": "code",
   "execution_count": 2,
   "metadata": {},
   "outputs": [
    {
     "name": "stdout",
     "output_type": "stream",
     "text": [
      "3\n",
      "1\n",
      "2\n",
      "3\n",
      "[1, 2, 3]\n",
      "[1, 2, 3]\n",
      "2\n"
     ]
    }
   ],
   "source": [
    "a=[]\n",
    "no=int(input())\n",
    "for i in range(no):\n",
    "    d=int(input())\n",
    "    a.append(d)\n",
    "print(a)\n",
    "a.sort()\n",
    "print(a)\n",
    "c=len(a)\n",
    "print(a[c-2])"
   ]
  },
  {
   "cell_type": "markdown",
   "metadata": {
    "id": "Q3Ba9vORIPW4"
   },
   "source": [
    "## Numpy Basic Exercises\n",
    "\n",
    "1. Create a 3D array of shape 4*5*2 that contains random decimal numbers between 1 and 10.\n",
    "2. Create a randomly created 1D array and Convert it to a 2D array with 2 rows.\n",
    "3. Given a NumPy array of temperature values, convert the values of Centigrade degrees into Fahrenheit degrees. \n",
    "4. Write a NumPy program to count the number of dimensions, number of elements and number of bytes for each element in a given array.\n",
    "5. Write a NumPy program to extract third and second elements of the first and second rows from a given (3x4) array"
   ]
  },
  {
   "cell_type": "code",
   "execution_count": 4,
   "metadata": {},
   "outputs": [
    {
     "name": "stdout",
     "output_type": "stream",
     "text": [
      "[[[3 6]\n",
      "  [1 9]\n",
      "  [1 2]\n",
      "  [8 2]\n",
      "  [7 6]]\n",
      "\n",
      " [[1 7]\n",
      "  [7 7]\n",
      "  [1 6]\n",
      "  [8 4]\n",
      "  [3 7]]\n",
      "\n",
      " [[8 7]\n",
      "  [1 6]\n",
      "  [7 3]\n",
      "  [2 2]\n",
      "  [9 2]]\n",
      "\n",
      " [[5 1]\n",
      "  [8 8]\n",
      "  [3 9]\n",
      "  [4 6]\n",
      "  [5 7]]]\n"
     ]
    }
   ],
   "source": [
    "import numpy as np\n",
    "darr = np.random.randint(1, 10, size=(4, 5, 2))\n",
    "print(darr)"
   ]
  },
  {
   "cell_type": "code",
   "execution_count": 6,
   "metadata": {},
   "outputs": [
    {
     "name": "stdout",
     "output_type": "stream",
     "text": [
      "[32 35 37 40]\n",
      "[ 89.6  95.   98.6 104. ]\n"
     ]
    }
   ],
   "source": [
    "import numpy as np\n",
    "cent=[32,35,37,40]\n",
    "c=np.array(cent)\n",
    "print(c)\n",
    "print(np.round((9*c/5 + 32),2))"
   ]
  },
  {
   "cell_type": "code",
   "execution_count": 10,
   "metadata": {},
   "outputs": [
    {
     "name": "stdout",
     "output_type": "stream",
     "text": [
      "[[ 1  2  3  4]\n",
      " [ 5  6  7  8]\n",
      " [ 9 10 11 12]]\n"
     ]
    },
    {
     "data": {
      "text/plain": [
       "array([[3, 4],\n",
       "       [7, 8]])"
      ]
     },
     "execution_count": 10,
     "metadata": {},
     "output_type": "execute_result"
    }
   ],
   "source": [
    "import numpy as np\n",
    "a = np.array([[1, 2, 3, 4], [5, 6, 7, 8], [9, 10, 11, 12]])\n",
    "print(a)\n",
    "a[0:2, 2:4]\n"
   ]
  },
  {
   "cell_type": "code",
   "execution_count": 12,
   "metadata": {},
   "outputs": [
    {
     "name": "stdout",
     "output_type": "stream",
     "text": [
      "[50 10 30 40]\n",
      "[[50 10]\n",
      " [30 40]]\n"
     ]
    }
   ],
   "source": [
    "import numpy as np\n",
    "list2=[50,10,30,40]\n",
    "x=np.array(list2)\n",
    "print(x)\n",
    "y=np.reshape(x,(2,2))\n",
    "print(y)"
   ]
  },
  {
   "cell_type": "code",
   "execution_count": null,
   "metadata": {},
   "outputs": [],
   "source": []
  }
 ],
 "metadata": {
  "colab": {
   "collapsed_sections": [],
   "provenance": [],
   "toc_visible": true
  },
  "kernelspec": {
   "display_name": "Python 3 (ipykernel)",
   "language": "python",
   "name": "python3"
  },
  "language_info": {
   "codemirror_mode": {
    "name": "ipython",
    "version": 3
   },
   "file_extension": ".py",
   "mimetype": "text/x-python",
   "name": "python",
   "nbconvert_exporter": "python",
   "pygments_lexer": "ipython3",
   "version": "3.9.12"
  }
 },
 "nbformat": 4,
 "nbformat_minor": 1
}
